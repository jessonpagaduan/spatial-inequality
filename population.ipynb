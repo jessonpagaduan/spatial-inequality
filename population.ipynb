{
 "cells": [
  {
   "cell_type": "code",
   "execution_count": 38,
   "metadata": {},
   "outputs": [],
   "source": [
    "import pandas as pd\n",
    "import numpy as np\n",
    "from matplotlib import pyplot as plt\n",
    "import seaborn as sns\n",
    "from pandasgui import show"
   ]
  },
  {
   "cell_type": "code",
   "execution_count": 158,
   "metadata": {},
   "outputs": [],
   "source": [
    "# Read interpolated population series\n",
    "df_pop = pd.read_excel('population_series_with_id.xlsx')\n",
    "\n",
    "# Calculate total province-level population\n",
    "df_pop_prov= df_pop.groupby(by=['province_id', 'year']).sum().reset_index()\n",
    "df_pop_prov.set_index(['province_id', 'year'], inplace=True)\n",
    "\n",
    "# Create a dataframe for province ID and region for merging\n",
    "df_pop_id = df_pop.groupby(['province_id', 'region']).first()\n",
    "\n",
    "# Merge the two dataframes\n",
    "df_pop_prov = df_pop_prov.join(df_pop_id, rsuffix='_r').loc[:, ['province', 'population', 'population_ipolate']].reset_index()\n",
    "\n",
    "# Clean dataframe and province names\n",
    "df_pop_prov = df_pop_prov[['province', 'province_id', 'region', 'year', 'population_ipolate']]\n",
    "df_pop_prov.columns.values[-1] = 'population'\n",
    "\n",
    "df_pop_prov.loc[df_pop_prov['province']=='Agusan Del Norte (excluding Butuan City)', 'province'] = 'Agusan Del Norte'\n",
    "df_pop_prov.loc[df_pop_prov['province']=='Basilan (excluding City of Isabela)', 'province'] = 'Basilan'\n",
    "df_pop_prov.loc[df_pop_prov['province']=='Baguio City', 'province'] = 'Benguet'\n",
    "df_pop_prov.loc[df_pop_prov['province']=='Cebu (excluding The Cities of Cebu, Lapu-Lapu, And Mandaue)', 'province'] = 'Cebu'\n",
    "df_pop_prov.loc[df_pop_prov['province']=='Cebu (excluding The Cities of Cebu, Lapu-Lapu, And Mandaue)', 'province'] = 'Cebu'\n",
    "df_pop_prov.loc[df_pop_prov['province']=='Davao City', 'province'] = 'Davao Del Sur'\n",
    "df_pop_prov.loc[df_pop_prov['province']=='Iloilo (excluding Iloilo City)', 'province'] = 'Iloilo'\n",
    "df_pop_prov.loc[df_pop_prov['province']=='Iligan City', 'province'] = 'Lanao Del Norte'\n",
    "df_pop_prov.loc[df_pop_prov['province']=='Leyte (excluding Tacloban City)', 'province'] = 'Leyte'\n",
    "df_pop_prov.loc[df_pop_prov['province']=='Cotabato City', 'province'] = 'Maguindanao'\n",
    "df_pop_prov.loc[df_pop_prov['province']=='Cagayan De Oro City', 'province'] = 'Misamis Oriental'\n",
    "df_pop_prov.loc[df_pop_prov['province']=='Bacolod City', 'province'] = 'Negros Occidental'\n",
    "df_pop_prov.loc[df_pop_prov['province']=='Cotabato (North Cotabato)', 'province'] = 'North Cotabato'\n",
    "df_pop_prov.loc[df_pop_prov['province']=='Palawan (excluding Puerto Princesa City)', 'province'] = 'Palawan'\n",
    "df_pop_prov.loc[df_pop_prov['province']=='Angeles City', 'province'] = 'Pampanga'\n",
    "df_pop_prov.loc[df_pop_prov['province']=='Lucena City', 'province'] = 'Quezon'\n",
    "df_pop_prov.loc[df_pop_prov['province']=='Samar (Western Samar)', 'province'] = 'Western Samar'\n",
    "df_pop_prov.loc[df_pop_prov['province']=='General Santos City (Dadiangas)', 'province'] = 'South Cotabato'\n",
    "df_pop_prov.loc[df_pop_prov['province']=='Olongapo City', 'province'] = 'Zambales'\n",
    "df_pop_prov.loc[df_pop_prov['province']=='Zamboanga City', 'province'] = 'Zamboanga Del Sur'\n",
    "df_pop_prov.loc[df_pop_prov['province']=='City of Las Piñas', 'province'] = 'City of Las Pinas'\n",
    "df_pop_prov.loc[df_pop_prov['province']=='City of Parañaque', 'province'] = 'City of Paranaque'\n",
    "\n",
    "# Tabulate average popuation from highest to lowest\n",
    "show(df_pop_prov.groupby(by='province').mean().sort_values(by='population', ascending=False).drop(columns='year'))\n",
    "\n",
    "# Save as Excel file\n",
    "df_pop_prov.to_excel('population_series_clean.xlsx', index=False)"
   ]
  },
  {
   "cell_type": "code",
   "execution_count": 159,
   "metadata": {},
   "outputs": [],
   "source": [
    "df_pop_prov.groupby('province_id').first().reset_index().drop(columns=['year', 'population']).to_excel('province_region_match.xlsx', index=False)"
   ]
  }
 ],
 "metadata": {
  "kernelspec": {
   "display_name": "Python 3",
   "language": "python",
   "name": "python3"
  },
  "language_info": {
   "codemirror_mode": {
    "name": "ipython",
    "version": 3
   },
   "file_extension": ".py",
   "mimetype": "text/x-python",
   "name": "python",
   "nbconvert_exporter": "python",
   "pygments_lexer": "ipython3",
   "version": "3.8.5"
  }
 },
 "nbformat": 4,
 "nbformat_minor": 4
}
